{
 "cells": [
  {
   "cell_type": "code",
   "execution_count": 44,
   "metadata": {},
   "outputs": [
    {
     "name": "stdout",
     "output_type": "stream",
     "text": [
      "enter value in kilometers :15.5\n",
      "15.50 kilometer is equal to 9.63 miles\n"
     ]
    }
   ],
   "source": [
    "# python program to convert kilometer to miles\n",
    "kilometer = float(input(\"enter value in kilometers :\"))\n",
    "miles = kilometer * 0.621371 # conversion factor\n",
    "print('%0.2f kilometer is equal to %0.2f miles' %(kilometer, miles))"
   ]
  },
  {
   "cell_type": "code",
   "execution_count": 7,
   "metadata": {
    "scrolled": true
   },
   "outputs": [
    {
     "name": "stdout",
     "output_type": "stream",
     "text": [
      "enter your number in celsius :37\n",
      "37.00 celsius is equal to 98.60 fahrenheit\n"
     ]
    }
   ],
   "source": [
    "# python program to convert celsius to fahrenheit\n",
    "celsius = float(input(\"enter your number in celsius :\"))\n",
    "fahrenheit = (celsius *1.8)+32\n",
    "print('%.2f celsius is equal to %.2f fahrenheit' %(celsius, fahrenheit))"
   ]
  },
  {
   "cell_type": "code",
   "execution_count": 11,
   "metadata": {},
   "outputs": [
    {
     "name": "stdout",
     "output_type": "stream",
     "text": [
      "enter your number in fahrenheit :99\n",
      "99.00  fahrenheit is: 37.22  celsius\n"
     ]
    }
   ],
   "source": [
    "# python program to convert  fahrenheit to celsius\n",
    "fahrenheit = float(input(\"enter your number in fahrenheit :\"))\n",
    "celsius = (fahrenheit -32)* 5/9\n",
    "print('%.2f  fahrenheit is: %.2f  celsius' %( fahrenheit, celsius))"
   ]
  },
  {
   "cell_type": "code",
   "execution_count": 21,
   "metadata": {},
   "outputs": [
    {
     "name": "stdout",
     "output_type": "stream",
     "text": [
      "enter your number :9\n",
      "positive number\n"
     ]
    }
   ],
   "source": [
    " # python programm to check whether a number is positive , negetive or zero\n",
    "num = int(input('enter your number :'))\n",
    "if(num >= 0):\n",
    "    print('positive number')\n",
    "elif(numn <= 0):\n",
    "        print('negetive number')\n",
    " else:\n",
    "     print('zero')\n",
    "    "
   ]
  },
  {
   "cell_type": "code",
   "execution_count": 38,
   "metadata": {},
   "outputs": [
    {
     "name": "stdout",
     "output_type": "stream",
     "text": [
      "enter your number :56\n",
      "even number\n"
     ]
    }
   ],
   "source": [
    "# check a number is odd or even\n",
    "num = int(input(\"enter your number :\"))\n",
    "if(num%2 == 0):\n",
    "    print(\"even number\")\n",
    "else:\n",
    "        print(\"odd number\")"
   ]
  },
  {
   "cell_type": "code",
   "execution_count": 43,
   "metadata": {},
   "outputs": [
    {
     "name": "stdout",
     "output_type": "stream",
     "text": [
      "enter your year :2012\n",
      "leap\n"
     ]
    }
   ],
   "source": [
    "# python program to chck leap year\n",
    "year = int(input(\"enter your year :\"))\n",
    "if(year%4 == 0):\n",
    "     print('leap')\n",
    "elif(year%400 == 0):\n",
    "    \n",
    "    print('leap')\n",
    "elif(year%400 == 0):\n",
    "        print('leap')\n",
    "    \n",
    "else:\n",
    "    print('not leap')"
   ]
  },
  {
   "cell_type": "code",
   "execution_count": 49,
   "metadata": {},
   "outputs": [
    {
     "name": "stdout",
     "output_type": "stream",
     "text": [
      "enter a year :2021\n",
      "enter a month :9\n",
      "   September 2021\n",
      "Mo Tu We Th Fr Sa Su\n",
      "       1  2  3  4  5\n",
      " 6  7  8  9 10 11 12\n",
      "13 14 15 16 17 18 19\n",
      "20 21 22 23 24 25 26\n",
      "27 28 29 30\n",
      "\n"
     ]
    }
   ],
   "source": [
    "# python`display calender\n",
    "import calendar \n",
    "yy = int(input(\"enter a year :\"))\n",
    "mm = int(input(\"enter a month :\"))\n",
    "print(calendar.month(yy,mm)) "
   ]
  },
  {
   "cell_type": "code",
   "execution_count": 51,
   "metadata": {},
   "outputs": [
    {
     "name": "stdout",
     "output_type": "stream",
     "text": [
      "enter a number :15\n",
      "15 x 1 = 15\n",
      "15 x 2 = 30\n",
      "15 x 3 = 45\n",
      "15 x 4 = 60\n",
      "15 x 5 = 75\n",
      "15 x 6 = 90\n",
      "15 x 7 = 105\n",
      "15 x 8 = 120\n",
      "15 x 9 = 135\n",
      "15 x 10 = 150\n"
     ]
    }
   ],
   "source": [
    "# multiplication table\n",
    "num = int(input(\"enter a number :\"))\n",
    "for i in range(1,11):\n",
    "    print(num,'x',i,'=',num*i)\n",
    "    "
   ]
  },
  {
   "cell_type": "code",
   "execution_count": 55,
   "metadata": {},
   "outputs": [
    {
     "name": "stdout",
     "output_type": "stream",
     "text": [
      "enter a number :5\n",
      "5 is  a prime number \n"
     ]
    }
   ],
   "source": [
    "# check prime number\n",
    "# soln no.1\n",
    "num = int(input(\"enter a number :\"))\n",
    "flag = False\n",
    "if num > 1:\n",
    "    for i in range(2,num):\n",
    "        if (num % i) == 0:\n",
    "            flag = True\n",
    "            break\n",
    "if flag:\n",
    "    print(num, \"is not a prime number \")\n",
    "else:\n",
    "     print(num, \"is  a prime number \")\n",
    "   \n"
   ]
  },
  {
   "cell_type": "code",
   "execution_count": 57,
   "metadata": {},
   "outputs": [
    {
     "name": "stdout",
     "output_type": "stream",
     "text": [
      "enter a number :407\n",
      "407 is not a prime number\n",
      "11 times 37 is 407\n"
     ]
    }
   ],
   "source": [
    "# check prime number\n",
    "# soln no.2\n",
    "num = int(input(\"enter a number :\"))\n",
    "if num > 1:\n",
    "    for i in range(2,num):\n",
    "        if(num % i) == 0:\n",
    "            print(num,\"is not a prime number\")\n",
    "            print(i,\"times\",num//i,\"is\",num)\n",
    "            break\n",
    "    else:\n",
    "            print(num,'is a prime number')\n",
    "else:\n",
    "    print(num,\"is not a prime number\")"
   ]
  },
  {
   "cell_type": "code",
   "execution_count": null,
   "metadata": {},
   "outputs": [],
   "source": []
  }
 ],
 "metadata": {
  "kernelspec": {
   "display_name": "Python 3",
   "language": "python",
   "name": "python3"
  },
  "language_info": {
   "codemirror_mode": {
    "name": "ipython",
    "version": 3
   },
   "file_extension": ".py",
   "mimetype": "text/x-python",
   "name": "python",
   "nbconvert_exporter": "python",
   "pygments_lexer": "ipython3",
   "version": "3.7.3"
  }
 },
 "nbformat": 4,
 "nbformat_minor": 2
}
