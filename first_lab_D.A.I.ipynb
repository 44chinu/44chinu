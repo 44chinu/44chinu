{
 "cells": [
  {
   "cell_type": "markdown",
   "metadata": {},
   "source": [
    "# variabls"
   ]
  },
  {
   "cell_type": "code",
   "execution_count": 1,
   "metadata": {},
   "outputs": [
    {
     "name": "stdout",
     "output_type": "stream",
     "text": [
      "1000\n"
     ]
    }
   ],
   "source": [
    "student_count = 1000\n",
    "print(student_count)"
   ]
  },
  {
   "cell_type": "code",
   "execution_count": 2,
   "metadata": {},
   "outputs": [
    {
     "data": {
      "text/plain": [
       "float"
      ]
     },
     "execution_count": 2,
     "metadata": {},
     "output_type": "execute_result"
    }
   ],
   "source": [
    "rating  = 4.9\n",
    "type(rating)"
   ]
  },
  {
   "cell_type": "code",
   "execution_count": 3,
   "metadata": {},
   "outputs": [
    {
     "ename": "NameError",
     "evalue": "name 'false' is not defined",
     "output_type": "error",
     "traceback": [
      "\u001b[1;31m---------------------------------------------------------------------------\u001b[0m",
      "\u001b[1;31mNameError\u001b[0m                                 Traceback (most recent call last)",
      "\u001b[1;32m<ipython-input-3-4c67dc86b281>\u001b[0m in \u001b[0;36m<module>\u001b[1;34m\u001b[0m\n\u001b[1;32m----> 1\u001b[1;33m \u001b[0mmy_name_is_chinmay\u001b[0m \u001b[1;33m=\u001b[0m \u001b[0mfalse\u001b[0m\u001b[1;33m\u001b[0m\u001b[1;33m\u001b[0m\u001b[0m\n\u001b[0m\u001b[0;32m      2\u001b[0m \u001b[0mprint\u001b[0m\u001b[1;33m(\u001b[0m\u001b[0mmy_name_is_chinmay\u001b[0m\u001b[1;33m)\u001b[0m\u001b[1;33m\u001b[0m\u001b[1;33m\u001b[0m\u001b[0m\n",
      "\u001b[1;31mNameError\u001b[0m: name 'false' is not defined"
     ]
    }
   ],
   "source": [
    "my_name_is_chinmay = false # python is case sensitive\n",
    "print(my_name_is_chinmay)"
   ]
  },
  {
   "cell_type": "code",
   "execution_count": 4,
   "metadata": {},
   "outputs": [
    {
     "name": "stdout",
     "output_type": "stream",
     "text": [
      "False\n"
     ]
    }
   ],
   "source": [
    "my_name_is_chinmay = False\n",
    "print(my_name_is_chinmay)"
   ]
  },
  {
   "cell_type": "code",
   "execution_count": 6,
   "metadata": {},
   "outputs": [
    {
     "data": {
      "text/plain": [
       "bool"
      ]
     },
     "execution_count": 6,
     "metadata": {},
     "output_type": "execute_result"
    }
   ],
   "source": [
    "my_name_is_chinmay = False\n",
    "type(my_name_is_chinmay)"
   ]
  },
  {
   "cell_type": "markdown",
   "metadata": {},
   "source": [
    "# string"
   ]
  },
  {
   "cell_type": "code",
   "execution_count": 23,
   "metadata": {},
   "outputs": [
    {
     "name": "stdout",
     "output_type": "stream",
     "text": [
      "i'm chinmay \n",
      "die hard fan of allu arjun\n",
      "big fan\n",
      "19\n",
      "47\n"
     ]
    }
   ],
   "source": [
    "course = \"python for beginner\" #String must be in single quotes or double quotes.\n",
    "message = '''i'm chinmay \n",
    "die hard fan of allu arjun     \n",
    "big fan'''       #Sometimes we use triple quotes beacuse we want to include in the body of an email.\n",
    "\n",
    "print(message)\n",
    "print(len(course))\n",
    "print(len(message))\n",
    "    \n"
   ]
  },
  {
   "cell_type": "code",
   "execution_count": 125,
   "metadata": {},
   "outputs": [
    {
     "name": "stdout",
     "output_type": "stream",
     "text": [
      "<class 'str'>\n"
     ]
    }
   ],
   "source": [
    "name = \"chinu\"\n",
    "print(type(name))"
   ]
  },
  {
   "cell_type": "code",
   "execution_count": 128,
   "metadata": {},
   "outputs": [
    {
     "name": "stdout",
     "output_type": "stream",
     "text": [
      "good morning, chinmaya \n"
     ]
    }
   ],
   "source": [
    "greeting = \"good morning, \"\n",
    "name = \"chinmaya \"\n",
    "print(greeting +  name)"
   ]
  },
  {
   "cell_type": "code",
   "execution_count": 129,
   "metadata": {},
   "outputs": [
    {
     "name": "stdout",
     "output_type": "stream",
     "text": [
      "good morning, chinmaya \n"
     ]
    }
   ],
   "source": [
    "greeting = \"good morning, \"\n",
    "name = \"chinmaya \"\n",
    "c = greeting +  name\n",
    "print(c)"
   ]
  },
  {
   "cell_type": "code",
   "execution_count": null,
   "metadata": {},
   "outputs": [],
   "source": []
  },
  {
   "cell_type": "code",
   "execution_count": 10,
   "metadata": {},
   "outputs": [
    {
     "name": "stdout",
     "output_type": "stream",
     "text": [
      "9\n"
     ]
    },
    {
     "data": {
      "text/plain": [
       "str"
      ]
     },
     "execution_count": 10,
     "metadata": {},
     "output_type": "execute_result"
    }
   ],
   "source": [
    "int = '9' ## bad practice // cant take keyword as vaeriable name...\n",
    "print(int)\n",
    "type(int)"
   ]
  },
  {
   "cell_type": "code",
   "execution_count": null,
   "metadata": {},
   "outputs": [],
   "source": []
  },
  {
   "cell_type": "markdown",
   "metadata": {},
   "source": [
    "# string slicing"
   ]
  },
  {
   "cell_type": "code",
   "execution_count": 67,
   "metadata": {},
   "outputs": [
    {
     "name": "stdout",
     "output_type": "stream",
     "text": [
      "pyth\n",
      "nohtyp\n",
      "ytho\n",
      "y\n",
      "rh\n"
     ]
    }
   ],
   "source": [
    "course = \"python for\"\n",
    "print(course[-10:-6])\n",
    "print(course[5:-11:-1])\n",
    "print(course[1:-5])\n",
    "print(course[1:3:6])\n",
    "print(course[-1:-8:-6])\n",
    "\n"
   ]
  },
  {
   "cell_type": "code",
   "execution_count": 132,
   "metadata": {},
   "outputs": [
    {
     "name": "stdout",
     "output_type": "stream",
     "text": [
      "n\n"
     ]
    }
   ],
   "source": [
    "name = \"chinu\"\n",
    "print(name[3])\n",
    " # name[3] = \"d\"   str does not support item assignment...\n",
    "    ## string is immutable"
   ]
  },
  {
   "cell_type": "code",
   "execution_count": 139,
   "metadata": {},
   "outputs": [
    {
     "name": "stdout",
     "output_type": "stream",
     "text": [
      "hin\n",
      "chi\n",
      "chin\n",
      "chinu\n",
      "hin\n"
     ]
    }
   ],
   "source": [
    "name = \"chinu\"\n",
    "print(name[1:4])\n",
    "print(name[0:3])\n",
    "print(name[:4]) #same as name[0:4]\n",
    "print(name[0:]) #same as name[0:5] or name[0:len]\n",
    "print(name[-4:-1]) #same as name[1:4]"
   ]
  },
  {
   "cell_type": "markdown",
   "metadata": {},
   "source": [
    "# slicing with skip value"
   ]
  },
  {
   "cell_type": "code",
   "execution_count": 147,
   "metadata": {},
   "outputs": [
    {
     "name": "stdout",
     "output_type": "stream",
     "text": [
      "hin\n",
      "hn\n",
      "ciusod\n",
      "cnso\n"
     ]
    }
   ],
   "source": [
    "name = \"chinuisgood\"\n",
    "print(name[1:4:1])\n",
    "print(name[1:4:2])\n",
    "print(name[0::2])\n",
    "print(name[0::3])"
   ]
  },
  {
   "cell_type": "code",
   "execution_count": 152,
   "metadata": {},
   "outputs": [
    {
     "name": "stdout",
     "output_type": "stream",
     "text": [
      "mzn\n",
      "mi\n",
      "az\n",
      "aai\n"
     ]
    }
   ],
   "source": [
    "word = \"amazing\"\n",
    "print(word[1:6:2])\n",
    "print(word[1:6:3])\n",
    "print(word[0:6:3]) #[0:6]means 0 included...but 6 is not included ...i.e excluded.\n",
    "print(word[0:5:2])"
   ]
  },
  {
   "cell_type": "code",
   "execution_count": 38,
   "metadata": {},
   "outputs": [
    {
     "name": "stdout",
     "output_type": "stream",
     "text": [
      "p\n",
      "hty\n",
      "pyt\n",
      "\n"
     ]
    }
   ],
   "source": [
    "course = \"python for beginner\"\n",
    "print(course[0])\n",
    "print(course[3:0:-1])\n",
    "print(course[0:3])\n",
    "print(course[3:0])\n"
   ]
  },
  {
   "cell_type": "markdown",
   "metadata": {},
   "source": [
    "# string function"
   ]
  },
  {
   "cell_type": "code",
   "execution_count": 169,
   "metadata": {},
   "outputs": [
    {
     "name": "stdout",
     "output_type": "stream",
     "text": [
      "79\n"
     ]
    }
   ],
   "source": [
    "story = \"once upon a time there is a legend chinmay who love to watch telugu movies upon\"\n",
    "print(len(story))\n"
   ]
  },
  {
   "cell_type": "code",
   "execution_count": 156,
   "metadata": {},
   "outputs": [
    {
     "name": "stdout",
     "output_type": "stream",
     "text": [
      "True\n"
     ]
    }
   ],
   "source": [
    "print(story.endswith(\"movies\"))"
   ]
  },
  {
   "cell_type": "code",
   "execution_count": 157,
   "metadata": {},
   "outputs": [
    {
     "name": "stdout",
     "output_type": "stream",
     "text": [
      "False\n"
     ]
    }
   ],
   "source": [
    "print(story.endswith(\"telugu\"))"
   ]
  },
  {
   "cell_type": "code",
   "execution_count": 173,
   "metadata": {},
   "outputs": [
    {
     "name": "stdout",
     "output_type": "stream",
     "text": [
      "7\n",
      "9\n",
      "2\n",
      "Once upon a time there is a legend chinmay who love to watch telugu movies upon\n",
      "35\n",
      "5\n",
      "once upon a time there is a legend tanmay who love to watch telugu movies upon\n"
     ]
    }
   ],
   "source": [
    "print(story.count(\"o\"))\n",
    "print(story.count(\"e\"))\n",
    "print(story.count(\"upon\"))\n",
    "print(story.capitalize())\n",
    "print(story.find(\"chinmay\"))\n",
    "print(story.find(\"upon\"))#find the words and returns the index of first occurance...\n",
    "print(story.replace(\"chinmay\",\"tanmay\")) #replace all poccurance...."
   ]
  },
  {
   "cell_type": "code",
   "execution_count": 35,
   "metadata": {},
   "outputs": [
    {
     "name": "stdout",
     "output_type": "stream",
     "text": [
      "CHINMAY SAMANTARA\n",
      "chinmay samantara\n",
      "Chinmay Samantara\n",
      "Chinmay samantara\n",
      "12\n",
      "-1\n",
      "chinmay guru\n",
      "True\n",
      "False\n"
     ]
    }
   ],
   "source": [
    "name = \"chinmay samantara\"\n",
    "print(name.upper())\n",
    "print(name.lower())\n",
    "print(name.title())#capitalize the 1st letter of each word!\n",
    "print(name.capitalize())#only capitalize the 1st letter of 1st word nothing else!\n",
    "print(name.find(\"nta\"))\n",
    "print(name.find(\"Nta\"))\n",
    "print(name.replace(\"samantara\", \"guru\"))\n",
    "print(\"tara\" in name)\n",
    "print(\"guru\" in name)\n",
    "\n"
   ]
  },
  {
   "cell_type": "markdown",
   "metadata": {},
   "source": [
    "# working with numbers"
   ]
  },
  {
   "cell_type": "code",
   "execution_count": null,
   "metadata": {},
   "outputs": [],
   "source": []
  },
  {
   "cell_type": "code",
   "execution_count": 69,
   "metadata": {},
   "outputs": [
    {
     "name": "stdout",
     "output_type": "stream",
     "text": [
      "my father's name is mayadhara samantara\n"
     ]
    }
   ],
   "source": [
    "sub = 'my father\\'s name is mayadhara samantara'\n",
    "print(sub)"
   ]
  },
  {
   "cell_type": "code",
   "execution_count": 71,
   "metadata": {},
   "outputs": [
    {
     "name": "stdout",
     "output_type": "stream",
     "text": [
      "8.9\n"
     ]
    }
   ],
   "source": [
    "print(abs(8.9))"
   ]
  },
  {
   "cell_type": "code",
   "execution_count": 72,
   "metadata": {},
   "outputs": [
    {
     "name": "stdout",
     "output_type": "stream",
     "text": [
      "2\n"
     ]
    }
   ],
   "source": [
    "print(round(2.3))"
   ]
  },
  {
   "cell_type": "code",
   "execution_count": 74,
   "metadata": {},
   "outputs": [
    {
     "name": "stdout",
     "output_type": "stream",
     "text": [
      "2\n"
     ]
    }
   ],
   "source": [
    "import math\n",
    "print(math.ceil(1.9))"
   ]
  },
  {
   "cell_type": "code",
   "execution_count": 75,
   "metadata": {},
   "outputs": [
    {
     "name": "stdout",
     "output_type": "stream",
     "text": [
      "120\n"
     ]
    }
   ],
   "source": [
    "import math\n",
    "print(math.factorial(5))"
   ]
  },
  {
   "cell_type": "code",
   "execution_count": 76,
   "metadata": {},
   "outputs": [
    {
     "name": "stdout",
     "output_type": "stream",
     "text": [
      "1\n"
     ]
    }
   ],
   "source": [
    "import math\n",
    "print(math.floor(1.9))"
   ]
  },
  {
   "cell_type": "code",
   "execution_count": 44,
   "metadata": {},
   "outputs": [
    {
     "name": "stdout",
     "output_type": "stream",
     "text": [
      "plz enter a value :500\n",
      "501\n"
     ]
    }
   ],
   "source": [
    "x = int(input(\"plz enter a value :\"))\n",
    "y = x + 1\n",
    "print(y)\n"
   ]
  },
  {
   "cell_type": "markdown",
   "metadata": {},
   "source": [
    "# numbers"
   ]
  },
  {
   "cell_type": "code",
   "execution_count": 37,
   "metadata": {},
   "outputs": [
    {
     "name": "stdout",
     "output_type": "stream",
     "text": [
      "13\n",
      "7\n",
      "30\n",
      "3.3333333333333335\n",
      "3\n",
      "1\n",
      "1000\n"
     ]
    }
   ],
   "source": [
    "print(10+3)\n",
    "print(10-3)\n",
    "print(10*3)\n",
    "print(10/3)\n",
    "print(10//3)\n",
    "print(10%3)\n",
    "print(10**3)"
   ]
  },
  {
   "cell_type": "markdown",
   "metadata": {},
   "source": [
    "# Quiz\n"
   ]
  },
  {
   "cell_type": "code",
   "execution_count": null,
   "metadata": {},
   "outputs": [],
   "source": [
    "\n",
    "\n",
    "fruit = \"apple\"\n",
    "print(fruit[0:-3])\n",
    "print(bool(\"False\"))\n",
    "print(10%3)\n",
    "print(fruit[1:-1])\n",
    "print(bool(0))"
   ]
  },
  {
   "cell_type": "markdown",
   "metadata": {},
   "source": [
    "# escape sequence"
   ]
  },
  {
   "cell_type": "code",
   "execution_count": 90,
   "metadata": {},
   "outputs": [
    {
     "name": "stdout",
     "output_type": "stream",
     "text": [
      "python \"for beginner\n"
     ]
    }
   ],
   "source": [
    "topic = \"python \\\"for beginner\" #back slash an escape chrt\n",
    "print(topic)"
   ]
  },
  {
   "cell_type": "code",
   "execution_count": 91,
   "metadata": {},
   "outputs": [
    {
     "name": "stdout",
     "output_type": "stream",
     "text": [
      "python 'for beginner\n"
     ]
    }
   ],
   "source": [
    "topic = \"python \\'for beginner\"\n",
    "print(topic)"
   ]
  },
  {
   "cell_type": "code",
   "execution_count": 92,
   "metadata": {},
   "outputs": [
    {
     "name": "stdout",
     "output_type": "stream",
     "text": [
      "python \\for beginner\n"
     ]
    }
   ],
   "source": [
    "topic = \"python \\\\for beginner\"\n",
    "print(topic)"
   ]
  },
  {
   "cell_type": "code",
   "execution_count": 93,
   "metadata": {},
   "outputs": [
    {
     "name": "stdout",
     "output_type": "stream",
     "text": [
      "python \n",
      " for beginner\n"
     ]
    }
   ],
   "source": [
    "topic = \"python \\n for beginner\"\n",
    "print(topic)"
   ]
  },
  {
   "cell_type": "code",
   "execution_count": 175,
   "metadata": {},
   "outputs": [
    {
     "name": "stdout",
     "output_type": "stream",
     "text": [
      "chinu is good.\n",
      "he\t is very good\n"
     ]
    }
   ],
   "source": [
    "story = \"chinu is good.\\nhe\\t is very good\"\n",
    "print(story)"
   ]
  },
  {
   "cell_type": "markdown",
   "metadata": {},
   "source": [
    "# formatted string"
   ]
  },
  {
   "cell_type": "code",
   "execution_count": 98,
   "metadata": {},
   "outputs": [
    {
     "name": "stdout",
     "output_type": "stream",
     "text": [
      "chinmaya samantara\n"
     ]
    }
   ],
   "source": [
    "first = \"chinmaya\"\n",
    "second = \"samantara\"\n",
    "full = first + \" \"+second\n",
    "print(full)"
   ]
  },
  {
   "cell_type": "code",
   "execution_count": 100,
   "metadata": {},
   "outputs": [
    {
     "name": "stdout",
     "output_type": "stream",
     "text": [
      "chinmaya samantara\n"
     ]
    }
   ],
   "source": [
    "first = \"chinmaya\"\n",
    "second = \"samantara\"\n",
    "full = f\"{first} {second}\"\n",
    "print(full)"
   ]
  },
  {
   "cell_type": "code",
   "execution_count": 102,
   "metadata": {},
   "outputs": [
    {
     "name": "stdout",
     "output_type": "stream",
     "text": [
      "8 9\n"
     ]
    }
   ],
   "source": [
    "first = \"chinmaya\"\n",
    "second = \"samantara\"\n",
    "full = f\"{len(first)} {len(second)}\"\n",
    "print(full)\n"
   ]
  },
  {
   "cell_type": "code",
   "execution_count": 105,
   "metadata": {},
   "outputs": [
    {
     "name": "stdout",
     "output_type": "stream",
     "text": [
      "chinmaya samantara\n"
     ]
    }
   ],
   "source": [
    "first = \"chinmaya\"\n",
    "second = \"samantara\"\n",
    "print(f\"{first} {second}\")\n"
   ]
  },
  {
   "cell_type": "code",
   "execution_count": 109,
   "metadata": {},
   "outputs": [
    {
     "name": "stdout",
     "output_type": "stream",
     "text": [
      "hello chinu your age is 21\n"
     ]
    }
   ],
   "source": [
    "name = \"chinu\"\n",
    "age = 21\n",
    "print(\"hello \"+ name,\"your age is \"+str(age))"
   ]
  },
  {
   "cell_type": "code",
   "execution_count": 112,
   "metadata": {},
   "outputs": [
    {
     "name": "stdout",
     "output_type": "stream",
     "text": [
      "hello chinu your age is 21\n"
     ]
    }
   ],
   "source": [
    "name = \"chinu\"\n",
    "age = 21\n",
    "print(\"hello {} your age is {}\".format(name,age)) #python 2"
   ]
  },
  {
   "cell_type": "code",
   "execution_count": 114,
   "metadata": {},
   "outputs": [
    {
     "name": "stdout",
     "output_type": "stream",
     "text": [
      "hello chinu your age is 21\n"
     ]
    }
   ],
   "source": [
    "name = \"chinu\"\n",
    "age = 21\n",
    "print(f\"hello {name} your age is {age}\")   #python 3"
   ]
  },
  {
   "cell_type": "code",
   "execution_count": 115,
   "metadata": {},
   "outputs": [
    {
     "name": "stdout",
     "output_type": "stream",
     "text": [
      "hello chinu your age is 23\n"
     ]
    }
   ],
   "source": [
    "name = \"chinu\"\n",
    "age = 21\n",
    "print(f\"hello {name} your age is {age+2}\") #also can do calculating..... #python 3.6"
   ]
  },
  {
   "cell_type": "markdown",
   "metadata": {},
   "source": [
    "# practice set 1 "
   ]
  },
  {
   "cell_type": "code",
   "execution_count": 2,
   "metadata": {},
   "outputs": [
    {
     "name": "stdout",
     "output_type": "stream",
     "text": [
      "enter your name\n",
      "chinu\n",
      "good afternoon, chinu\n"
     ]
    }
   ],
   "source": [
    "name = input(\"enter your name\\n\")\n",
    "print(\"good afternoon, \" + name)"
   ]
  },
  {
   "cell_type": "code",
   "execution_count": 4,
   "metadata": {},
   "outputs": [
    {
     "name": "stdout",
     "output_type": "stream",
     "text": [
      "enter your name\n",
      "allu\n",
      "good afternoon, allu\n"
     ]
    }
   ],
   "source": [
    "name = input(\"enter your name\\n\")\n",
    "greeting = \"good afternoon, \"\n",
    "print(greeting  + name)"
   ]
  },
  {
   "cell_type": "code",
   "execution_count": 5,
   "metadata": {},
   "outputs": [
    {
     "name": "stdout",
     "output_type": "stream",
     "text": [
      "\n",
      "        dear<|Name|>,\n",
      "        you are selected!\n",
      "        date: <|Date|>\n"
     ]
    }
   ],
   "source": [
    "letter = '''\n",
    "        dear<|Name|>,\n",
    "        you are selected!\n",
    "        date: <|Date|>'''\n",
    "print(letter)\n"
   ]
  },
  {
   "cell_type": "code",
   "execution_count": 15,
   "metadata": {},
   "outputs": [
    {
     "name": "stdout",
     "output_type": "stream",
     "text": [
      "enter your name :\n",
      " Chinmay Samantara\n",
      "enter date:\n",
      "14 August 2021\n",
      "\n",
      "        Dear Chinmay Samantara,\n",
      "        Greetings from tcs ninja , i am happy to tell you about your selection\n",
      "        you are selected!\n",
      "        Have a great day ahead!\n",
      "        Thanks and regards,\n",
      "        Date: 14 August 2021\n",
      "        \n"
     ]
    }
   ],
   "source": [
    "letter = '''\n",
    "        Dear <|Name|>,\n",
    "        Greetings from tcs ninja , i am happy to tell you about your selection\n",
    "        you are selected!\n",
    "        Have a great day ahead!\n",
    "        Thanks and regards,\n",
    "        Date: <|Date|>\n",
    "        '''\n",
    "name = input(\"enter your name :\\n \")\n",
    "date = input(\"enter date:\\n\")\n",
    "letter = letter.replace(\"<|Name|>\", name)\n",
    "letter = letter.replace(\"<|Date|>\", date)\n",
    "print(letter)\n"
   ]
  },
  {
   "cell_type": "code",
   "execution_count": 16,
   "metadata": {},
   "outputs": [
    {
     "name": "stdout",
     "output_type": "stream",
     "text": [
      "28\n"
     ]
    }
   ],
   "source": [
    "string = \"This is a string with double  spaces\"\n",
    "doubleSpaces = string.find(\"  \")\n",
    "print(doubleSpaces)"
   ]
  },
  {
   "cell_type": "code",
   "execution_count": 19,
   "metadata": {},
   "outputs": [
    {
     "name": "stdout",
     "output_type": "stream",
     "text": [
      "This is a string with double spaces ok\n"
     ]
    }
   ],
   "source": [
    "string = \"This is a string with double  spaces  ok\"\n",
    "doubleSpaces = string.replace(\"  \",\" \")\n",
    "print(doubleSpaces)"
   ]
  },
  {
   "cell_type": "code",
   "execution_count": 25,
   "metadata": {},
   "outputs": [
    {
     "name": "stdout",
     "output_type": "stream",
     "text": [
      "Dear Chinu,\n",
      "\t This Python Program is Nice!\n",
      " Thanks\n"
     ]
    }
   ],
   "source": [
    "letter = \"Dear Chinu, This Python Program is Nice! Thanks\"\n",
    "formatted_letter =  \"Dear Chinu,\\n\\t This Python Program is Nice!\\n Thanks\"\n",
    "print(formatted_letter)"
   ]
  },
  {
   "cell_type": "code",
   "execution_count": null,
   "metadata": {},
   "outputs": [],
   "source": []
  }
 ],
 "metadata": {
  "kernelspec": {
   "display_name": "Python 3",
   "language": "python",
   "name": "python3"
  },
  "language_info": {
   "codemirror_mode": {
    "name": "ipython",
    "version": 3
   },
   "file_extension": ".py",
   "mimetype": "text/x-python",
   "name": "python",
   "nbconvert_exporter": "python",
   "pygments_lexer": "ipython3",
   "version": "3.7.3"
  }
 },
 "nbformat": 4,
 "nbformat_minor": 2
}
